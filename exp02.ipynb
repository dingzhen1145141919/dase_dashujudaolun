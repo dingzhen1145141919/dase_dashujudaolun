{
 "cells": [
  {
   "cell_type": "code",
   "execution_count": 1,
   "metadata": {},
   "outputs": [
    {
     "name": "stdout",
     "output_type": "stream",
     "text": [
      "48和18的最大公约数是6\n"
     ]
    }
   ],
   "source": [
    "#1. 编写 Python 程序，求两个正整数的最大公约数。\n",
    "def gcd(a,b):\n",
    "    while b!=0:\n",
    "        a,b=b,a%b\n",
    "    return a\n",
    "num1=int(input(\"请输入第一个正整数:\"))\n",
    "num2=int(input(\"请输入第一个正整数:\"))\n",
    "print(f\"{num1}和{num2}的最大公约数是{gcd(num1,num2)}\")"
   ]
  },
  {
   "cell_type": "code",
   "execution_count": 3,
   "metadata": {},
   "outputs": [
    {
     "name": "stdout",
     "output_type": "stream",
     "text": [
      "良好\n"
     ]
    }
   ],
   "source": [
    "#22. 用if语句实现百分制转等级制（考试成绩，60分以下不合格，60—74分合格，75—89分为良好，90分以上为优秀）。\n",
    "grade=int(input(\"请输入分数：\"))\n",
    "if grade<60:\n",
    "    print(\"不合格\")\n",
    "elif grade >=60 and grade <=74:\n",
    "    print(\"合格\")\n",
    "elif grade >=75 and grade <=89:\n",
    "    print(\"良好\")\n",
    "else:\n",
    "    print(\"优秀\")"
   ]
  },
  {
   "cell_type": "code",
   "execution_count": 16,
   "metadata": {},
   "outputs": [
    {
     "name": "stdout",
     "output_type": "stream",
     "text": [
      "11111111111111111111111110001110.1000001110010101100000010000011000000000000000000000000000000000"
     ]
    }
   ],
   "source": [
    "#3编写Python程序，完成十进制小数到二进制小数的转换\n",
    "x=float(input(\"请输入一个绝对值小于129的小数\"))\n",
    "x_int=[0]*32\n",
    "x_float=[0]*64\n",
    "neg=0\n",
    "if x<0:\n",
    "    x=-x-1\n",
    "    neg=1\n",
    "i=0\n",
    "xint=int(x)\n",
    "xfloat=x-xint\n",
    "while xint!=0:\n",
    "    x_int[i]=xint%2\n",
    "    xint=xint//2\n",
    "    i+=1\n",
    "if neg==1:\n",
    "    for i in range(32):\n",
    "        if(x_int[i]==1):\n",
    "            x_int[i]=0\n",
    "        else:\n",
    "            x_int[i]=1\n",
    "for i in range(32):\n",
    "    x_float[i]=int(xfloat*2)\n",
    "    xfloat=xfloat*2-x_float[i]\n",
    "for i in range(32):\n",
    "    print(x_int[31-i],end='')\n",
    "print(\".\",end='')\n",
    "for i in range(64):\n",
    "    print(x_float[i],end='')\n"
   ]
  },
  {
   "cell_type": "code",
   "execution_count": 17,
   "metadata": {},
   "outputs": [
    {
     "name": "stdout",
     "output_type": "stream",
     "text": [
      "生成的随机浮点数为: 13.128288482603482\n"
     ]
    }
   ],
   "source": [
    "#4编写Python程序，产生10-20的随机浮点数\n",
    "import random\n",
    "\n",
    "def generate_random_float(min_value, max_value):\n",
    "    return random.uniform(min_value, max_value)\n",
    "random_float = generate_random_float(10, 20)\n",
    "print(f\"生成的随机浮点数为: {random_float}\")"
   ]
  },
  {
   "cell_type": "code",
   "execution_count": 19,
   "metadata": {},
   "outputs": [
    {
     "name": "stdout",
     "output_type": "stream",
     "text": [
      "是回文数\n"
     ]
    }
   ],
   "source": [
    "#5编写一个Python函数，判断一个整数是否是回文数。回文数是指正序（从左向右）和倒序（从右向左）读都是一样的数。\n",
    "x=(input(\"请输入一个整数\"))\n",
    "y=0\n",
    "for i in range(len(x)//2):\n",
    "    if x[i]!=x[len(x)-1-i]:\n",
    "        print(\"不是回文数\")\n",
    "        y=1\n",
    "        break\n",
    "if y!=1:\n",
    "    print(\"是回文数\")\n"
   ]
  },
  {
   "cell_type": "code",
   "execution_count": 24,
   "metadata": {},
   "outputs": [
    {
     "name": "stdout",
     "output_type": "stream",
     "text": [
      "0 1 1 2 3 5 8 13 21 34 "
     ]
    }
   ],
   "source": [
    "#6编写一个Python函数，返回一个包含斐波那契数列的前N个数的列表。斐波那契数列是一个数列，其中每个数是前两个数的和,数列以0和1开始。\n",
    "n=int(input(\"请输入一个整数\"))\n",
    "fib=[0]*n\n",
    "fib[0]=0\n",
    "fib[1]=1\n",
    "for i in range(2,n):\n",
    "    fib[i]=fib[i-1]+fib[i-2]\n",
    "for i in range(n):\n",
    "    print(fib[i],end=' ')"
   ]
  },
  {
   "cell_type": "code",
   "execution_count": 26,
   "metadata": {},
   "outputs": [
    {
     "name": "stdout",
     "output_type": "stream",
     "text": [
      "9\n"
     ]
    }
   ],
   "source": [
    "#7.编写一个Python函数，接受一个整数数组作为输入，返回数组中第二大的数。如果数组中只有一个元素或数组为空，则返回-1。\n",
    "n=int(input(\"请输入数组的长度\"))\n",
    "if n<2:\n",
    "    print(\"-1\")\n",
    "else:\n",
    "    arr=[0]*n\n",
    "    for i in range(n):\n",
    "        arr[i]=int(input(\"请输入数组的第%d个元素\"%(i+1)))\n",
    "    arr.sort()\n",
    "    print(arr[n-2])\n"
   ]
  },
  {
   "cell_type": "code",
   "execution_count": 27,
   "metadata": {},
   "outputs": [
    {
     "name": "stdout",
     "output_type": "stream",
     "text": [
      "身份证号 310230200411131450: 合法\n"
     ]
    }
   ],
   "source": [
    "#8. 编写一个函数，使其能够用正则表达式的方式简单验证身份证号是否合法。\n",
    "import re\n",
    "def validate_id_card(id_number):\n",
    "    pattern = r'^[1-9]\\d{5}(19|20)\\d{2}(0[1-9]|1[0-2])(0[1-9]|[1-2]\\d|3[0-1])\\d{3}(\\d|X|x)$'\n",
    "    if re.match(pattern, id_number):\n",
    "        return True\n",
    "    else:\n",
    "        return False\n",
    "id=input(\"请输入身份证号\")\n",
    "result = validate_id_card(id)\n",
    "print(f\"身份证号 {id}: {'合法' if result else '不合法'}\")"
   ]
  }
 ],
 "metadata": {
  "kernelspec": {
   "display_name": "Python 3",
   "language": "python",
   "name": "python3"
  },
  "language_info": {
   "codemirror_mode": {
    "name": "ipython",
    "version": 3
   },
   "file_extension": ".py",
   "mimetype": "text/x-python",
   "name": "python",
   "nbconvert_exporter": "python",
   "pygments_lexer": "ipython3",
   "version": "3.12.4"
  }
 },
 "nbformat": 4,
 "nbformat_minor": 2
}
